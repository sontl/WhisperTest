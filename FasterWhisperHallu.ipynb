{
  "cells": [
    {
      "cell_type": "code",
      "execution_count": 7,
      "metadata": {
        "colab": {
          "base_uri": "https://localhost:8080/"
        },
        "id": "Adc0UnnmrzXq",
        "outputId": "b200cb47-c536-4f09-c465-3378f23eca18"
      },
      "outputs": [
        {
          "name": "stdout",
          "output_type": "stream",
          "text": [
            "ffmpeg version 4.4.5-0ubuntu1~22.04.sav0 Copyright (c) 2000-2024 the FFmpeg developers\n",
            "built with gcc 11 (Ubuntu 11.4.0-1ubuntu1~22.04)\n",
            "configuration: --prefix=/usr --extra-version='0ubuntu1~22.04.sav0' --toolchain=hardened --libdir=/usr/lib/x86_64-linux-gnu --incdir=/usr/include/x86_64-linux-gnu --arch=amd64 --enable-gpl --disable-stripping --enable-gnutls --enable-ladspa --enable-libaom --enable-libass --enable-libbluray --enable-libbs2b --enable-libcaca --enable-libcdio --enable-libcodec2 --enable-libflite --enable-libfontconfig --enable-libfreetype --enable-libfribidi --enable-libgme --enable-libgsm --enable-libjack --enable-libmp3lame --enable-libmysofa --enable-libopenjpeg --enable-libopenmpt --enable-libopus --enable-libpulse --enable-librabbitmq --enable-librubberband --enable-libshine --enable-libsnappy --enable-libsoxr --enable-libspeex --enable-libsrt --enable-libssh --enable-libtheora --enable-libtwolame --enable-libvidstab --enable-libvorbis --enable-libvpx --enable-libwebp --enable-libx265 --enable-libxml2 --enable-libxvid --enable-libzimg --enable-libzmq --enable-libzvbi --enable-lv2 --enable-omx --enable-openal --enable-opencl --enable-opengl --enable-sdl2 --enable-pocketsphinx --enable-librsvg --enable-libdc1394 --enable-libdrm --enable-libiec61883 --enable-chromaprint --enable-frei0r --enable-libx264 --enable-shared\n",
            "libavutil      56. 70.100 / 56. 70.100\n",
            "libavcodec     58.134.100 / 58.134.100\n",
            "libavformat    58. 76.100 / 58. 76.100\n",
            "libavdevice    58. 13.100 / 58. 13.100\n",
            "libavfilter     7.110.100 /  7.110.100\n",
            "libswscale      5.  9.100 /  5.  9.100\n",
            "libswresample   3.  9.100 /  3.  9.100\n",
            "libpostproc    55.  9.100 / 55.  9.100\n"
          ]
        }
      ],
      "source": [
        "!ffmpeg -version"
      ]
    },
    {
      "cell_type": "code",
      "execution_count": 8,
      "metadata": {
        "colab": {
          "base_uri": "https://localhost:8080/"
        },
        "collapsed": true,
        "id": "399tOfnWkZbP",
        "outputId": "ceef3a28-a67f-4183-e829-134e6ea3326d"
      },
      "outputs": [
        {
          "name": "stdout",
          "output_type": "stream",
          "text": [
            "Error: must run as root\n",
            "E: Could not open lock file /var/lib/dpkg/lock-frontend - open (13: Permission denied)\n",
            "E: Unable to acquire the dpkg frontend lock (/var/lib/dpkg/lock-frontend), are you root?\n"
          ]
        }
      ],
      "source": [
        "! add-apt-repository -y ppa:savoury1/ffmpeg4\n",
        "! apt-get -qq install -y ffmpeg\n"
      ]
    },
    {
      "cell_type": "code",
      "execution_count": 9,
      "metadata": {
        "colab": {
          "base_uri": "https://localhost:8080/"
        },
        "collapsed": true,
        "id": "QGiQUxAKoEG4",
        "outputId": "967979ca-e4df-4b59-cc00-8133e9fa58cf"
      },
      "outputs": [
        {
          "name": "stdout",
          "output_type": "stream",
          "text": [
            "ffmpeg version 4.4.5-0ubuntu1~22.04.sav0 Copyright (c) 2000-2024 the FFmpeg developers\n",
            "built with gcc 11 (Ubuntu 11.4.0-1ubuntu1~22.04)\n",
            "configuration: --prefix=/usr --extra-version='0ubuntu1~22.04.sav0' --toolchain=hardened --libdir=/usr/lib/x86_64-linux-gnu --incdir=/usr/include/x86_64-linux-gnu --arch=amd64 --enable-gpl --disable-stripping --enable-gnutls --enable-ladspa --enable-libaom --enable-libass --enable-libbluray --enable-libbs2b --enable-libcaca --enable-libcdio --enable-libcodec2 --enable-libflite --enable-libfontconfig --enable-libfreetype --enable-libfribidi --enable-libgme --enable-libgsm --enable-libjack --enable-libmp3lame --enable-libmysofa --enable-libopenjpeg --enable-libopenmpt --enable-libopus --enable-libpulse --enable-librabbitmq --enable-librubberband --enable-libshine --enable-libsnappy --enable-libsoxr --enable-libspeex --enable-libsrt --enable-libssh --enable-libtheora --enable-libtwolame --enable-libvidstab --enable-libvorbis --enable-libvpx --enable-libwebp --enable-libx265 --enable-libxml2 --enable-libxvid --enable-libzimg --enable-libzmq --enable-libzvbi --enable-lv2 --enable-omx --enable-openal --enable-opencl --enable-opengl --enable-sdl2 --enable-pocketsphinx --enable-librsvg --enable-libdc1394 --enable-libdrm --enable-libiec61883 --enable-chromaprint --enable-frei0r --enable-libx264 --enable-shared\n",
            "libavutil      56. 70.100 / 56. 70.100\n",
            "libavcodec     58.134.100 / 58.134.100\n",
            "libavformat    58. 76.100 / 58. 76.100\n",
            "libavdevice    58. 13.100 / 58. 13.100\n",
            "libavfilter     7.110.100 /  7.110.100\n",
            "libswscale      5.  9.100 /  5.  9.100\n",
            "libswresample   3.  9.100 /  3.  9.100\n",
            "libpostproc    55.  9.100 / 55.  9.100\n"
          ]
        }
      ],
      "source": [
        "!ffmpeg -version"
      ]
    },
    {
      "cell_type": "code",
      "execution_count": 10,
      "metadata": {
        "colab": {
          "base_uri": "https://localhost:8080/"
        },
        "collapsed": true,
        "id": "frZfE22RjOrj",
        "outputId": "e3477b96-8814-49bd-c8af-3e63e65561a3"
      },
      "outputs": [
        {
          "name": "stdout",
          "output_type": "stream",
          "text": [
            "Cloning into 'WhisperHallu'...\n",
            "remote: Enumerating objects: 245, done.\u001b[K\n",
            "remote: Counting objects: 100% (50/50), done.\u001b[K\n",
            "remote: Compressing objects: 100% (25/25), done.\u001b[K\n",
            "remote: Total 245 (delta 40), reused 29 (delta 25), pack-reused 195 (from 1)\u001b[K\n",
            "Receiving objects: 100% (245/245), 12.40 MiB | 17.39 MiB/s, done.\n",
            "Resolving deltas: 100% (107/107), done.\n"
          ]
        }
      ],
      "source": [
        "!rm -rf WhisperHallu\n",
        "!git clone https://github.com/EtienneAb3d/WhisperHallu.git"
      ]
    },
    {
      "cell_type": "code",
      "execution_count": 11,
      "metadata": {
        "colab": {
          "base_uri": "https://localhost:8080/"
        },
        "collapsed": true,
        "id": "ZErlmMfSOTqa",
        "outputId": "43cdfc5f-0a0a-4111-9a38-5537e553be95"
      },
      "outputs": [
        {
          "name": "stdout",
          "output_type": "stream",
          "text": [
            "Requirement already satisfied: demucs in ./.venv/lib/python3.10/site-packages (4.0.1)\n",
            "Requirement already satisfied: dora-search in ./.venv/lib/python3.10/site-packages (from demucs) (0.1.12)\n",
            "Requirement already satisfied: einops in ./.venv/lib/python3.10/site-packages (from demucs) (0.8.0)\n",
            "Requirement already satisfied: julius>=0.2.3 in ./.venv/lib/python3.10/site-packages (from demucs) (0.2.7)\n",
            "Requirement already satisfied: lameenc>=1.2 in ./.venv/lib/python3.10/site-packages (from demucs) (1.7.0)\n",
            "Requirement already satisfied: openunmix in ./.venv/lib/python3.10/site-packages (from demucs) (1.3.0)\n",
            "Requirement already satisfied: pyyaml in ./.venv/lib/python3.10/site-packages (from demucs) (6.0.2)\n",
            "Requirement already satisfied: torch>=1.8.1 in ./.venv/lib/python3.10/site-packages (from demucs) (2.4.1)\n",
            "Requirement already satisfied: torchaudio>=0.8 in ./.venv/lib/python3.10/site-packages (from demucs) (2.4.1)\n",
            "Requirement already satisfied: tqdm in ./.venv/lib/python3.10/site-packages (from demucs) (4.66.5)\n",
            "Requirement already satisfied: filelock in ./.venv/lib/python3.10/site-packages (from torch>=1.8.1->demucs) (3.15.4)\n",
            "Requirement already satisfied: typing-extensions>=4.8.0 in ./.venv/lib/python3.10/site-packages (from torch>=1.8.1->demucs) (4.12.2)\n",
            "Requirement already satisfied: sympy in ./.venv/lib/python3.10/site-packages (from torch>=1.8.1->demucs) (1.13.2)\n",
            "Requirement already satisfied: networkx in ./.venv/lib/python3.10/site-packages (from torch>=1.8.1->demucs) (3.3)\n",
            "Requirement already satisfied: jinja2 in ./.venv/lib/python3.10/site-packages (from torch>=1.8.1->demucs) (3.1.4)\n",
            "Requirement already satisfied: fsspec in ./.venv/lib/python3.10/site-packages (from torch>=1.8.1->demucs) (2024.6.1)\n",
            "Requirement already satisfied: nvidia-cuda-nvrtc-cu12==12.1.105 in ./.venv/lib/python3.10/site-packages (from torch>=1.8.1->demucs) (12.1.105)\n",
            "Requirement already satisfied: nvidia-cuda-runtime-cu12==12.1.105 in ./.venv/lib/python3.10/site-packages (from torch>=1.8.1->demucs) (12.1.105)\n",
            "Requirement already satisfied: nvidia-cuda-cupti-cu12==12.1.105 in ./.venv/lib/python3.10/site-packages (from torch>=1.8.1->demucs) (12.1.105)\n",
            "Requirement already satisfied: nvidia-cudnn-cu12==9.1.0.70 in ./.venv/lib/python3.10/site-packages (from torch>=1.8.1->demucs) (9.1.0.70)\n",
            "Requirement already satisfied: nvidia-cublas-cu12==12.1.3.1 in ./.venv/lib/python3.10/site-packages (from torch>=1.8.1->demucs) (12.1.3.1)\n",
            "Requirement already satisfied: nvidia-cufft-cu12==11.0.2.54 in ./.venv/lib/python3.10/site-packages (from torch>=1.8.1->demucs) (11.0.2.54)\n",
            "Requirement already satisfied: nvidia-curand-cu12==10.3.2.106 in ./.venv/lib/python3.10/site-packages (from torch>=1.8.1->demucs) (10.3.2.106)\n",
            "Requirement already satisfied: nvidia-cusolver-cu12==11.4.5.107 in ./.venv/lib/python3.10/site-packages (from torch>=1.8.1->demucs) (11.4.5.107)\n",
            "Requirement already satisfied: nvidia-cusparse-cu12==12.1.0.106 in ./.venv/lib/python3.10/site-packages (from torch>=1.8.1->demucs) (12.1.0.106)\n",
            "Requirement already satisfied: nvidia-nccl-cu12==2.20.5 in ./.venv/lib/python3.10/site-packages (from torch>=1.8.1->demucs) (2.20.5)\n",
            "Requirement already satisfied: nvidia-nvtx-cu12==12.1.105 in ./.venv/lib/python3.10/site-packages (from torch>=1.8.1->demucs) (12.1.105)\n",
            "Requirement already satisfied: triton==3.0.0 in ./.venv/lib/python3.10/site-packages (from torch>=1.8.1->demucs) (3.0.0)\n",
            "Requirement already satisfied: nvidia-nvjitlink-cu12 in ./.venv/lib/python3.10/site-packages (from nvidia-cusolver-cu12==11.4.5.107->torch>=1.8.1->demucs) (12.6.77)\n",
            "Requirement already satisfied: omegaconf in ./.venv/lib/python3.10/site-packages (from dora-search->demucs) (2.3.0)\n",
            "Requirement already satisfied: retrying in ./.venv/lib/python3.10/site-packages (from dora-search->demucs) (1.3.4)\n",
            "Requirement already satisfied: submitit in ./.venv/lib/python3.10/site-packages (from dora-search->demucs) (1.5.2)\n",
            "Requirement already satisfied: treetable in ./.venv/lib/python3.10/site-packages (from dora-search->demucs) (0.2.5)\n",
            "Requirement already satisfied: numpy in ./.venv/lib/python3.10/site-packages (from openunmix->demucs) (1.26.4)\n",
            "Requirement already satisfied: MarkupSafe>=2.0 in ./.venv/lib/python3.10/site-packages (from jinja2->torch>=1.8.1->demucs) (2.1.5)\n",
            "Requirement already satisfied: antlr4-python3-runtime==4.9.* in ./.venv/lib/python3.10/site-packages (from omegaconf->dora-search->demucs) (4.9.3)\n",
            "Requirement already satisfied: six>=1.7.0 in ./.venv/lib/python3.10/site-packages (from retrying->dora-search->demucs) (1.16.0)\n",
            "Requirement already satisfied: cloudpickle>=1.2.1 in ./.venv/lib/python3.10/site-packages (from submitit->dora-search->demucs) (3.0.0)\n",
            "Requirement already satisfied: mpmath<1.4,>=1.1.0 in ./.venv/lib/python3.10/site-packages (from sympy->torch>=1.8.1->demucs) (1.3.0)\n"
          ]
        }
      ],
      "source": [
        "#!pip install spleeter\n",
        "!pip install -U demucs"
      ]
    },
    {
      "cell_type": "code",
      "execution_count": 12,
      "metadata": {
        "colab": {
          "base_uri": "https://localhost:8080/",
          "height": 180
        },
        "id": "Wq_tC-7KuwjF",
        "outputId": "41d0a5a4-f5f8-46b7-e8f9-907c4dd2b356"
      },
      "outputs": [
        {
          "name": "stdout",
          "output_type": "stream",
          "text": [
            "Already up to date.\n"
          ]
        }
      ],
      "source": [
        "import os\n",
        "os.chdir(\"WhisperHallu\")\n",
        "!git pull"
      ]
    },
    {
      "cell_type": "code",
      "execution_count": 13,
      "metadata": {
        "colab": {
          "base_uri": "https://localhost:8080/"
        },
        "collapsed": true,
        "id": "kXxaZWs2ivIW",
        "outputId": "296d23c9-bdc3-4f87-c66f-9177cd9fbc3b"
      },
      "outputs": [
        {
          "name": "stdout",
          "output_type": "stream",
          "text": [
            "Collecting faster-whisper@ git+https://github.com/guillaumekln/faster-whisper@master#faster-whisper[conversion] (from faster-whisper@ git+https://github.com/guillaumekln/faster-whisper@master#faster-whisper[conversion])\n",
            "  Cloning https://github.com/guillaumekln/faster-whisper (to revision master) to /tmp/pip-install-ivgews6g/faster-whisper_7aed608d535a47889104208a7756c946\n",
            "  Running command git clone --filter=blob:none --quiet https://github.com/guillaumekln/faster-whisper /tmp/pip-install-ivgews6g/faster-whisper_7aed608d535a47889104208a7756c946\n",
            "  Resolved https://github.com/guillaumekln/faster-whisper to commit d57c5b40b06e59ec44240d93485a95799548af50\n",
            "  Preparing metadata (setup.py) ... \u001b[?25ldone\n",
            "\u001b[?25hRequirement already satisfied: ctranslate2<5,>=4.0 in /home/son/Workspace/whisper/.venv/lib/python3.10/site-packages (from faster-whisper@ git+https://github.com/guillaumekln/faster-whisper@master#faster-whisper[conversion]->faster-whisper@ git+https://github.com/guillaumekln/faster-whisper@master#faster-whisper[conversion]) (4.3.1)\n",
            "Requirement already satisfied: huggingface_hub>=0.13 in /home/son/Workspace/whisper/.venv/lib/python3.10/site-packages (from faster-whisper@ git+https://github.com/guillaumekln/faster-whisper@master#faster-whisper[conversion]->faster-whisper@ git+https://github.com/guillaumekln/faster-whisper@master#faster-whisper[conversion]) (0.24.6)\n",
            "Requirement already satisfied: onnxruntime<2,>=1.14 in /home/son/Workspace/whisper/.venv/lib/python3.10/site-packages (from faster-whisper@ git+https://github.com/guillaumekln/faster-whisper@master#faster-whisper[conversion]->faster-whisper@ git+https://github.com/guillaumekln/faster-whisper@master#faster-whisper[conversion]) (1.19.0)\n",
            "Requirement already satisfied: pyannote-audio>=3.1.1 in /home/son/Workspace/whisper/.venv/lib/python3.10/site-packages (from faster-whisper@ git+https://github.com/guillaumekln/faster-whisper@master#faster-whisper[conversion]->faster-whisper@ git+https://github.com/guillaumekln/faster-whisper@master#faster-whisper[conversion]) (3.3.2)\n",
            "Requirement already satisfied: tokenizers<1,>=0.13 in /home/son/Workspace/whisper/.venv/lib/python3.10/site-packages (from faster-whisper@ git+https://github.com/guillaumekln/faster-whisper@master#faster-whisper[conversion]->faster-whisper@ git+https://github.com/guillaumekln/faster-whisper@master#faster-whisper[conversion]) (0.20.0)\n",
            "Requirement already satisfied: torch>=2.1.1 in /home/son/Workspace/whisper/.venv/lib/python3.10/site-packages (from faster-whisper@ git+https://github.com/guillaumekln/faster-whisper@master#faster-whisper[conversion]->faster-whisper@ git+https://github.com/guillaumekln/faster-whisper@master#faster-whisper[conversion]) (2.4.1)\n",
            "Requirement already satisfied: torchaudio>=2.1.2 in /home/son/Workspace/whisper/.venv/lib/python3.10/site-packages (from faster-whisper@ git+https://github.com/guillaumekln/faster-whisper@master#faster-whisper[conversion]->faster-whisper@ git+https://github.com/guillaumekln/faster-whisper@master#faster-whisper[conversion]) (2.4.1)\n",
            "Requirement already satisfied: tqdm in /home/son/Workspace/whisper/.venv/lib/python3.10/site-packages (from faster-whisper@ git+https://github.com/guillaumekln/faster-whisper@master#faster-whisper[conversion]->faster-whisper@ git+https://github.com/guillaumekln/faster-whisper@master#faster-whisper[conversion]) (4.66.5)\n",
            "Requirement already satisfied: transformers>=4.23 in /home/son/Workspace/whisper/.venv/lib/python3.10/site-packages (from transformers[torch]>=4.23->faster-whisper@ git+https://github.com/guillaumekln/faster-whisper@master#faster-whisper[conversion]->faster-whisper@ git+https://github.com/guillaumekln/faster-whisper@master#faster-whisper[conversion]) (4.45.1)\n",
            "Requirement already satisfied: setuptools in /home/son/Workspace/whisper/.venv/lib/python3.10/site-packages (from ctranslate2<5,>=4.0->faster-whisper@ git+https://github.com/guillaumekln/faster-whisper@master#faster-whisper[conversion]->faster-whisper@ git+https://github.com/guillaumekln/faster-whisper@master#faster-whisper[conversion]) (59.6.0)\n",
            "Requirement already satisfied: numpy in /home/son/Workspace/whisper/.venv/lib/python3.10/site-packages (from ctranslate2<5,>=4.0->faster-whisper@ git+https://github.com/guillaumekln/faster-whisper@master#faster-whisper[conversion]->faster-whisper@ git+https://github.com/guillaumekln/faster-whisper@master#faster-whisper[conversion]) (1.26.4)\n",
            "Requirement already satisfied: pyyaml<7,>=5.3 in /home/son/Workspace/whisper/.venv/lib/python3.10/site-packages (from ctranslate2<5,>=4.0->faster-whisper@ git+https://github.com/guillaumekln/faster-whisper@master#faster-whisper[conversion]->faster-whisper@ git+https://github.com/guillaumekln/faster-whisper@master#faster-whisper[conversion]) (6.0.2)\n",
            "Requirement already satisfied: filelock in /home/son/Workspace/whisper/.venv/lib/python3.10/site-packages (from huggingface_hub>=0.13->faster-whisper@ git+https://github.com/guillaumekln/faster-whisper@master#faster-whisper[conversion]->faster-whisper@ git+https://github.com/guillaumekln/faster-whisper@master#faster-whisper[conversion]) (3.15.4)\n",
            "Requirement already satisfied: fsspec>=2023.5.0 in /home/son/Workspace/whisper/.venv/lib/python3.10/site-packages (from huggingface_hub>=0.13->faster-whisper@ git+https://github.com/guillaumekln/faster-whisper@master#faster-whisper[conversion]->faster-whisper@ git+https://github.com/guillaumekln/faster-whisper@master#faster-whisper[conversion]) (2024.6.1)\n",
            "Requirement already satisfied: packaging>=20.9 in /home/son/Workspace/whisper/.venv/lib/python3.10/site-packages (from huggingface_hub>=0.13->faster-whisper@ git+https://github.com/guillaumekln/faster-whisper@master#faster-whisper[conversion]->faster-whisper@ git+https://github.com/guillaumekln/faster-whisper@master#faster-whisper[conversion]) (24.1)\n",
            "Requirement already satisfied: requests in /home/son/Workspace/whisper/.venv/lib/python3.10/site-packages (from huggingface_hub>=0.13->faster-whisper@ git+https://github.com/guillaumekln/faster-whisper@master#faster-whisper[conversion]->faster-whisper@ git+https://github.com/guillaumekln/faster-whisper@master#faster-whisper[conversion]) (2.32.3)\n",
            "Requirement already satisfied: typing-extensions>=3.7.4.3 in /home/son/Workspace/whisper/.venv/lib/python3.10/site-packages (from huggingface_hub>=0.13->faster-whisper@ git+https://github.com/guillaumekln/faster-whisper@master#faster-whisper[conversion]->faster-whisper@ git+https://github.com/guillaumekln/faster-whisper@master#faster-whisper[conversion]) (4.12.2)\n",
            "Requirement already satisfied: coloredlogs in /home/son/Workspace/whisper/.venv/lib/python3.10/site-packages (from onnxruntime<2,>=1.14->faster-whisper@ git+https://github.com/guillaumekln/faster-whisper@master#faster-whisper[conversion]->faster-whisper@ git+https://github.com/guillaumekln/faster-whisper@master#faster-whisper[conversion]) (15.0.1)\n",
            "Requirement already satisfied: flatbuffers in /home/son/Workspace/whisper/.venv/lib/python3.10/site-packages (from onnxruntime<2,>=1.14->faster-whisper@ git+https://github.com/guillaumekln/faster-whisper@master#faster-whisper[conversion]->faster-whisper@ git+https://github.com/guillaumekln/faster-whisper@master#faster-whisper[conversion]) (24.3.25)\n",
            "Requirement already satisfied: protobuf in /home/son/Workspace/whisper/.venv/lib/python3.10/site-packages (from onnxruntime<2,>=1.14->faster-whisper@ git+https://github.com/guillaumekln/faster-whisper@master#faster-whisper[conversion]->faster-whisper@ git+https://github.com/guillaumekln/faster-whisper@master#faster-whisper[conversion]) (4.25.5)\n",
            "Requirement already satisfied: sympy in /home/son/Workspace/whisper/.venv/lib/python3.10/site-packages (from onnxruntime<2,>=1.14->faster-whisper@ git+https://github.com/guillaumekln/faster-whisper@master#faster-whisper[conversion]->faster-whisper@ git+https://github.com/guillaumekln/faster-whisper@master#faster-whisper[conversion]) (1.13.2)\n",
            "Requirement already satisfied: asteroid-filterbanks>=0.4 in /home/son/Workspace/whisper/.venv/lib/python3.10/site-packages (from pyannote-audio>=3.1.1->faster-whisper@ git+https://github.com/guillaumekln/faster-whisper@master#faster-whisper[conversion]->faster-whisper@ git+https://github.com/guillaumekln/faster-whisper@master#faster-whisper[conversion]) (0.4.0)\n",
            "Requirement already satisfied: einops>=0.6.0 in /home/son/Workspace/whisper/.venv/lib/python3.10/site-packages (from pyannote-audio>=3.1.1->faster-whisper@ git+https://github.com/guillaumekln/faster-whisper@master#faster-whisper[conversion]->faster-whisper@ git+https://github.com/guillaumekln/faster-whisper@master#faster-whisper[conversion]) (0.8.0)\n",
            "Requirement already satisfied: lightning>=2.0.1 in /home/son/Workspace/whisper/.venv/lib/python3.10/site-packages (from pyannote-audio>=3.1.1->faster-whisper@ git+https://github.com/guillaumekln/faster-whisper@master#faster-whisper[conversion]->faster-whisper@ git+https://github.com/guillaumekln/faster-whisper@master#faster-whisper[conversion]) (2.4.0)\n",
            "Requirement already satisfied: omegaconf<3.0,>=2.1 in /home/son/Workspace/whisper/.venv/lib/python3.10/site-packages (from pyannote-audio>=3.1.1->faster-whisper@ git+https://github.com/guillaumekln/faster-whisper@master#faster-whisper[conversion]->faster-whisper@ git+https://github.com/guillaumekln/faster-whisper@master#faster-whisper[conversion]) (2.3.0)\n",
            "Requirement already satisfied: pyannote.core>=5.0.0 in /home/son/Workspace/whisper/.venv/lib/python3.10/site-packages (from pyannote-audio>=3.1.1->faster-whisper@ git+https://github.com/guillaumekln/faster-whisper@master#faster-whisper[conversion]->faster-whisper@ git+https://github.com/guillaumekln/faster-whisper@master#faster-whisper[conversion]) (5.0.0)\n",
            "Requirement already satisfied: pyannote.database>=5.0.1 in /home/son/Workspace/whisper/.venv/lib/python3.10/site-packages (from pyannote-audio>=3.1.1->faster-whisper@ git+https://github.com/guillaumekln/faster-whisper@master#faster-whisper[conversion]->faster-whisper@ git+https://github.com/guillaumekln/faster-whisper@master#faster-whisper[conversion]) (5.1.0)\n",
            "Requirement already satisfied: pyannote.metrics>=3.2 in /home/son/Workspace/whisper/.venv/lib/python3.10/site-packages (from pyannote-audio>=3.1.1->faster-whisper@ git+https://github.com/guillaumekln/faster-whisper@master#faster-whisper[conversion]->faster-whisper@ git+https://github.com/guillaumekln/faster-whisper@master#faster-whisper[conversion]) (3.2.1)\n",
            "Requirement already satisfied: pyannote.pipeline>=3.0.1 in /home/son/Workspace/whisper/.venv/lib/python3.10/site-packages (from pyannote-audio>=3.1.1->faster-whisper@ git+https://github.com/guillaumekln/faster-whisper@master#faster-whisper[conversion]->faster-whisper@ git+https://github.com/guillaumekln/faster-whisper@master#faster-whisper[conversion]) (3.0.1)\n",
            "Requirement already satisfied: pytorch-metric-learning>=2.1.0 in /home/son/Workspace/whisper/.venv/lib/python3.10/site-packages (from pyannote-audio>=3.1.1->faster-whisper@ git+https://github.com/guillaumekln/faster-whisper@master#faster-whisper[conversion]->faster-whisper@ git+https://github.com/guillaumekln/faster-whisper@master#faster-whisper[conversion]) (2.6.0)\n",
            "Requirement already satisfied: rich>=12.0.0 in /home/son/Workspace/whisper/.venv/lib/python3.10/site-packages (from pyannote-audio>=3.1.1->faster-whisper@ git+https://github.com/guillaumekln/faster-whisper@master#faster-whisper[conversion]->faster-whisper@ git+https://github.com/guillaumekln/faster-whisper@master#faster-whisper[conversion]) (13.9.1)\n",
            "Requirement already satisfied: semver>=3.0.0 in /home/son/Workspace/whisper/.venv/lib/python3.10/site-packages (from pyannote-audio>=3.1.1->faster-whisper@ git+https://github.com/guillaumekln/faster-whisper@master#faster-whisper[conversion]->faster-whisper@ git+https://github.com/guillaumekln/faster-whisper@master#faster-whisper[conversion]) (3.0.2)\n",
            "Requirement already satisfied: soundfile>=0.12.1 in /home/son/Workspace/whisper/.venv/lib/python3.10/site-packages (from pyannote-audio>=3.1.1->faster-whisper@ git+https://github.com/guillaumekln/faster-whisper@master#faster-whisper[conversion]->faster-whisper@ git+https://github.com/guillaumekln/faster-whisper@master#faster-whisper[conversion]) (0.12.1)\n",
            "Requirement already satisfied: speechbrain>=1.0.0 in /home/son/Workspace/whisper/.venv/lib/python3.10/site-packages (from pyannote-audio>=3.1.1->faster-whisper@ git+https://github.com/guillaumekln/faster-whisper@master#faster-whisper[conversion]->faster-whisper@ git+https://github.com/guillaumekln/faster-whisper@master#faster-whisper[conversion]) (1.0.1)\n",
            "Requirement already satisfied: tensorboardX>=2.6 in /home/son/Workspace/whisper/.venv/lib/python3.10/site-packages (from pyannote-audio>=3.1.1->faster-whisper@ git+https://github.com/guillaumekln/faster-whisper@master#faster-whisper[conversion]->faster-whisper@ git+https://github.com/guillaumekln/faster-whisper@master#faster-whisper[conversion]) (2.6.2.2)\n",
            "Requirement already satisfied: torch-audiomentations>=0.11.0 in /home/son/Workspace/whisper/.venv/lib/python3.10/site-packages (from pyannote-audio>=3.1.1->faster-whisper@ git+https://github.com/guillaumekln/faster-whisper@master#faster-whisper[conversion]->faster-whisper@ git+https://github.com/guillaumekln/faster-whisper@master#faster-whisper[conversion]) (0.11.1)\n",
            "Requirement already satisfied: torchmetrics>=0.11.0 in /home/son/Workspace/whisper/.venv/lib/python3.10/site-packages (from pyannote-audio>=3.1.1->faster-whisper@ git+https://github.com/guillaumekln/faster-whisper@master#faster-whisper[conversion]->faster-whisper@ git+https://github.com/guillaumekln/faster-whisper@master#faster-whisper[conversion]) (1.4.2)\n",
            "Requirement already satisfied: networkx in /home/son/Workspace/whisper/.venv/lib/python3.10/site-packages (from torch>=2.1.1->faster-whisper@ git+https://github.com/guillaumekln/faster-whisper@master#faster-whisper[conversion]->faster-whisper@ git+https://github.com/guillaumekln/faster-whisper@master#faster-whisper[conversion]) (3.3)\n",
            "Requirement already satisfied: jinja2 in /home/son/Workspace/whisper/.venv/lib/python3.10/site-packages (from torch>=2.1.1->faster-whisper@ git+https://github.com/guillaumekln/faster-whisper@master#faster-whisper[conversion]->faster-whisper@ git+https://github.com/guillaumekln/faster-whisper@master#faster-whisper[conversion]) (3.1.4)\n",
            "Requirement already satisfied: nvidia-cuda-nvrtc-cu12==12.1.105 in /home/son/Workspace/whisper/.venv/lib/python3.10/site-packages (from torch>=2.1.1->faster-whisper@ git+https://github.com/guillaumekln/faster-whisper@master#faster-whisper[conversion]->faster-whisper@ git+https://github.com/guillaumekln/faster-whisper@master#faster-whisper[conversion]) (12.1.105)\n",
            "Requirement already satisfied: nvidia-cuda-runtime-cu12==12.1.105 in /home/son/Workspace/whisper/.venv/lib/python3.10/site-packages (from torch>=2.1.1->faster-whisper@ git+https://github.com/guillaumekln/faster-whisper@master#faster-whisper[conversion]->faster-whisper@ git+https://github.com/guillaumekln/faster-whisper@master#faster-whisper[conversion]) (12.1.105)\n",
            "Requirement already satisfied: nvidia-cuda-cupti-cu12==12.1.105 in /home/son/Workspace/whisper/.venv/lib/python3.10/site-packages (from torch>=2.1.1->faster-whisper@ git+https://github.com/guillaumekln/faster-whisper@master#faster-whisper[conversion]->faster-whisper@ git+https://github.com/guillaumekln/faster-whisper@master#faster-whisper[conversion]) (12.1.105)\n",
            "Requirement already satisfied: nvidia-cudnn-cu12==9.1.0.70 in /home/son/Workspace/whisper/.venv/lib/python3.10/site-packages (from torch>=2.1.1->faster-whisper@ git+https://github.com/guillaumekln/faster-whisper@master#faster-whisper[conversion]->faster-whisper@ git+https://github.com/guillaumekln/faster-whisper@master#faster-whisper[conversion]) (9.1.0.70)\n",
            "Requirement already satisfied: nvidia-cublas-cu12==12.1.3.1 in /home/son/Workspace/whisper/.venv/lib/python3.10/site-packages (from torch>=2.1.1->faster-whisper@ git+https://github.com/guillaumekln/faster-whisper@master#faster-whisper[conversion]->faster-whisper@ git+https://github.com/guillaumekln/faster-whisper@master#faster-whisper[conversion]) (12.1.3.1)\n",
            "Requirement already satisfied: nvidia-cufft-cu12==11.0.2.54 in /home/son/Workspace/whisper/.venv/lib/python3.10/site-packages (from torch>=2.1.1->faster-whisper@ git+https://github.com/guillaumekln/faster-whisper@master#faster-whisper[conversion]->faster-whisper@ git+https://github.com/guillaumekln/faster-whisper@master#faster-whisper[conversion]) (11.0.2.54)\n",
            "Requirement already satisfied: nvidia-curand-cu12==10.3.2.106 in /home/son/Workspace/whisper/.venv/lib/python3.10/site-packages (from torch>=2.1.1->faster-whisper@ git+https://github.com/guillaumekln/faster-whisper@master#faster-whisper[conversion]->faster-whisper@ git+https://github.com/guillaumekln/faster-whisper@master#faster-whisper[conversion]) (10.3.2.106)\n",
            "Requirement already satisfied: nvidia-cusolver-cu12==11.4.5.107 in /home/son/Workspace/whisper/.venv/lib/python3.10/site-packages (from torch>=2.1.1->faster-whisper@ git+https://github.com/guillaumekln/faster-whisper@master#faster-whisper[conversion]->faster-whisper@ git+https://github.com/guillaumekln/faster-whisper@master#faster-whisper[conversion]) (11.4.5.107)\n",
            "Requirement already satisfied: nvidia-cusparse-cu12==12.1.0.106 in /home/son/Workspace/whisper/.venv/lib/python3.10/site-packages (from torch>=2.1.1->faster-whisper@ git+https://github.com/guillaumekln/faster-whisper@master#faster-whisper[conversion]->faster-whisper@ git+https://github.com/guillaumekln/faster-whisper@master#faster-whisper[conversion]) (12.1.0.106)\n",
            "Requirement already satisfied: nvidia-nccl-cu12==2.20.5 in /home/son/Workspace/whisper/.venv/lib/python3.10/site-packages (from torch>=2.1.1->faster-whisper@ git+https://github.com/guillaumekln/faster-whisper@master#faster-whisper[conversion]->faster-whisper@ git+https://github.com/guillaumekln/faster-whisper@master#faster-whisper[conversion]) (2.20.5)\n",
            "Requirement already satisfied: nvidia-nvtx-cu12==12.1.105 in /home/son/Workspace/whisper/.venv/lib/python3.10/site-packages (from torch>=2.1.1->faster-whisper@ git+https://github.com/guillaumekln/faster-whisper@master#faster-whisper[conversion]->faster-whisper@ git+https://github.com/guillaumekln/faster-whisper@master#faster-whisper[conversion]) (12.1.105)\n",
            "Requirement already satisfied: triton==3.0.0 in /home/son/Workspace/whisper/.venv/lib/python3.10/site-packages (from torch>=2.1.1->faster-whisper@ git+https://github.com/guillaumekln/faster-whisper@master#faster-whisper[conversion]->faster-whisper@ git+https://github.com/guillaumekln/faster-whisper@master#faster-whisper[conversion]) (3.0.0)\n",
            "Requirement already satisfied: nvidia-nvjitlink-cu12 in /home/son/Workspace/whisper/.venv/lib/python3.10/site-packages (from nvidia-cusolver-cu12==11.4.5.107->torch>=2.1.1->faster-whisper@ git+https://github.com/guillaumekln/faster-whisper@master#faster-whisper[conversion]->faster-whisper@ git+https://github.com/guillaumekln/faster-whisper@master#faster-whisper[conversion]) (12.6.77)\n",
            "Requirement already satisfied: regex!=2019.12.17 in /home/son/Workspace/whisper/.venv/lib/python3.10/site-packages (from transformers>=4.23->transformers[torch]>=4.23->faster-whisper@ git+https://github.com/guillaumekln/faster-whisper@master#faster-whisper[conversion]->faster-whisper@ git+https://github.com/guillaumekln/faster-whisper@master#faster-whisper[conversion]) (2024.9.11)\n",
            "Requirement already satisfied: safetensors>=0.4.1 in /home/son/Workspace/whisper/.venv/lib/python3.10/site-packages (from transformers>=4.23->transformers[torch]>=4.23->faster-whisper@ git+https://github.com/guillaumekln/faster-whisper@master#faster-whisper[conversion]->faster-whisper@ git+https://github.com/guillaumekln/faster-whisper@master#faster-whisper[conversion]) (0.4.5)\n",
            "Requirement already satisfied: accelerate>=0.26.0 in /home/son/Workspace/whisper/.venv/lib/python3.10/site-packages (from transformers[torch]>=4.23->faster-whisper@ git+https://github.com/guillaumekln/faster-whisper@master#faster-whisper[conversion]->faster-whisper@ git+https://github.com/guillaumekln/faster-whisper@master#faster-whisper[conversion]) (0.34.2)\n",
            "Requirement already satisfied: psutil in /home/son/Workspace/whisper/.venv/lib/python3.10/site-packages (from accelerate>=0.26.0->transformers[torch]>=4.23->faster-whisper@ git+https://github.com/guillaumekln/faster-whisper@master#faster-whisper[conversion]->faster-whisper@ git+https://github.com/guillaumekln/faster-whisper@master#faster-whisper[conversion]) (6.0.0)\n",
            "Requirement already satisfied: lightning-utilities<2.0,>=0.10.0 in /home/son/Workspace/whisper/.venv/lib/python3.10/site-packages (from lightning>=2.0.1->pyannote-audio>=3.1.1->faster-whisper@ git+https://github.com/guillaumekln/faster-whisper@master#faster-whisper[conversion]->faster-whisper@ git+https://github.com/guillaumekln/faster-whisper@master#faster-whisper[conversion]) (0.11.7)\n",
            "Requirement already satisfied: pytorch-lightning in /home/son/Workspace/whisper/.venv/lib/python3.10/site-packages (from lightning>=2.0.1->pyannote-audio>=3.1.1->faster-whisper@ git+https://github.com/guillaumekln/faster-whisper@master#faster-whisper[conversion]->faster-whisper@ git+https://github.com/guillaumekln/faster-whisper@master#faster-whisper[conversion]) (2.4.0)\n",
            "Requirement already satisfied: antlr4-python3-runtime==4.9.* in /home/son/Workspace/whisper/.venv/lib/python3.10/site-packages (from omegaconf<3.0,>=2.1->pyannote-audio>=3.1.1->faster-whisper@ git+https://github.com/guillaumekln/faster-whisper@master#faster-whisper[conversion]->faster-whisper@ git+https://github.com/guillaumekln/faster-whisper@master#faster-whisper[conversion]) (4.9.3)\n",
            "Requirement already satisfied: sortedcontainers>=2.0.4 in /home/son/Workspace/whisper/.venv/lib/python3.10/site-packages (from pyannote.core>=5.0.0->pyannote-audio>=3.1.1->faster-whisper@ git+https://github.com/guillaumekln/faster-whisper@master#faster-whisper[conversion]->faster-whisper@ git+https://github.com/guillaumekln/faster-whisper@master#faster-whisper[conversion]) (2.4.0)\n",
            "Requirement already satisfied: scipy>=1.1 in /home/son/Workspace/whisper/.venv/lib/python3.10/site-packages (from pyannote.core>=5.0.0->pyannote-audio>=3.1.1->faster-whisper@ git+https://github.com/guillaumekln/faster-whisper@master#faster-whisper[conversion]->faster-whisper@ git+https://github.com/guillaumekln/faster-whisper@master#faster-whisper[conversion]) (1.14.1)\n",
            "Requirement already satisfied: pandas>=0.19 in /home/son/Workspace/whisper/.venv/lib/python3.10/site-packages (from pyannote.database>=5.0.1->pyannote-audio>=3.1.1->faster-whisper@ git+https://github.com/guillaumekln/faster-whisper@master#faster-whisper[conversion]->faster-whisper@ git+https://github.com/guillaumekln/faster-whisper@master#faster-whisper[conversion]) (1.5.3)\n",
            "Requirement already satisfied: typer>=0.12.1 in /home/son/Workspace/whisper/.venv/lib/python3.10/site-packages (from pyannote.database>=5.0.1->pyannote-audio>=3.1.1->faster-whisper@ git+https://github.com/guillaumekln/faster-whisper@master#faster-whisper[conversion]->faster-whisper@ git+https://github.com/guillaumekln/faster-whisper@master#faster-whisper[conversion]) (0.12.5)\n",
            "Requirement already satisfied: scikit-learn>=0.17.1 in /home/son/Workspace/whisper/.venv/lib/python3.10/site-packages (from pyannote.metrics>=3.2->pyannote-audio>=3.1.1->faster-whisper@ git+https://github.com/guillaumekln/faster-whisper@master#faster-whisper[conversion]->faster-whisper@ git+https://github.com/guillaumekln/faster-whisper@master#faster-whisper[conversion]) (1.5.2)\n",
            "Requirement already satisfied: docopt>=0.6.2 in /home/son/Workspace/whisper/.venv/lib/python3.10/site-packages (from pyannote.metrics>=3.2->pyannote-audio>=3.1.1->faster-whisper@ git+https://github.com/guillaumekln/faster-whisper@master#faster-whisper[conversion]->faster-whisper@ git+https://github.com/guillaumekln/faster-whisper@master#faster-whisper[conversion]) (0.6.2)\n",
            "Requirement already satisfied: tabulate>=0.7.7 in /home/son/Workspace/whisper/.venv/lib/python3.10/site-packages (from pyannote.metrics>=3.2->pyannote-audio>=3.1.1->faster-whisper@ git+https://github.com/guillaumekln/faster-whisper@master#faster-whisper[conversion]->faster-whisper@ git+https://github.com/guillaumekln/faster-whisper@master#faster-whisper[conversion]) (0.9.0)\n",
            "Requirement already satisfied: matplotlib>=2.0.0 in /home/son/Workspace/whisper/.venv/lib/python3.10/site-packages (from pyannote.metrics>=3.2->pyannote-audio>=3.1.1->faster-whisper@ git+https://github.com/guillaumekln/faster-whisper@master#faster-whisper[conversion]->faster-whisper@ git+https://github.com/guillaumekln/faster-whisper@master#faster-whisper[conversion]) (3.9.2)\n",
            "Requirement already satisfied: optuna>=3.1 in /home/son/Workspace/whisper/.venv/lib/python3.10/site-packages (from pyannote.pipeline>=3.0.1->pyannote-audio>=3.1.1->faster-whisper@ git+https://github.com/guillaumekln/faster-whisper@master#faster-whisper[conversion]->faster-whisper@ git+https://github.com/guillaumekln/faster-whisper@master#faster-whisper[conversion]) (4.0.0)\n",
            "Requirement already satisfied: markdown-it-py>=2.2.0 in /home/son/Workspace/whisper/.venv/lib/python3.10/site-packages (from rich>=12.0.0->pyannote-audio>=3.1.1->faster-whisper@ git+https://github.com/guillaumekln/faster-whisper@master#faster-whisper[conversion]->faster-whisper@ git+https://github.com/guillaumekln/faster-whisper@master#faster-whisper[conversion]) (3.0.0)\n",
            "Requirement already satisfied: pygments<3.0.0,>=2.13.0 in /home/son/Workspace/whisper/.venv/lib/python3.10/site-packages (from rich>=12.0.0->pyannote-audio>=3.1.1->faster-whisper@ git+https://github.com/guillaumekln/faster-whisper@master#faster-whisper[conversion]->faster-whisper@ git+https://github.com/guillaumekln/faster-whisper@master#faster-whisper[conversion]) (2.18.0)\n",
            "Requirement already satisfied: cffi>=1.0 in /home/son/Workspace/whisper/.venv/lib/python3.10/site-packages (from soundfile>=0.12.1->pyannote-audio>=3.1.1->faster-whisper@ git+https://github.com/guillaumekln/faster-whisper@master#faster-whisper[conversion]->faster-whisper@ git+https://github.com/guillaumekln/faster-whisper@master#faster-whisper[conversion]) (1.17.1)\n",
            "Requirement already satisfied: hyperpyyaml in /home/son/Workspace/whisper/.venv/lib/python3.10/site-packages (from speechbrain>=1.0.0->pyannote-audio>=3.1.1->faster-whisper@ git+https://github.com/guillaumekln/faster-whisper@master#faster-whisper[conversion]->faster-whisper@ git+https://github.com/guillaumekln/faster-whisper@master#faster-whisper[conversion]) (1.2.2)\n",
            "Requirement already satisfied: joblib in /home/son/Workspace/whisper/.venv/lib/python3.10/site-packages (from speechbrain>=1.0.0->pyannote-audio>=3.1.1->faster-whisper@ git+https://github.com/guillaumekln/faster-whisper@master#faster-whisper[conversion]->faster-whisper@ git+https://github.com/guillaumekln/faster-whisper@master#faster-whisper[conversion]) (1.4.2)\n",
            "Requirement already satisfied: sentencepiece in /home/son/Workspace/whisper/.venv/lib/python3.10/site-packages (from speechbrain>=1.0.0->pyannote-audio>=3.1.1->faster-whisper@ git+https://github.com/guillaumekln/faster-whisper@master#faster-whisper[conversion]->faster-whisper@ git+https://github.com/guillaumekln/faster-whisper@master#faster-whisper[conversion]) (0.2.0)\n",
            "Requirement already satisfied: mpmath<1.4,>=1.1.0 in /home/son/Workspace/whisper/.venv/lib/python3.10/site-packages (from sympy->onnxruntime<2,>=1.14->faster-whisper@ git+https://github.com/guillaumekln/faster-whisper@master#faster-whisper[conversion]->faster-whisper@ git+https://github.com/guillaumekln/faster-whisper@master#faster-whisper[conversion]) (1.3.0)\n",
            "Requirement already satisfied: julius<0.3,>=0.2.3 in /home/son/Workspace/whisper/.venv/lib/python3.10/site-packages (from torch-audiomentations>=0.11.0->pyannote-audio>=3.1.1->faster-whisper@ git+https://github.com/guillaumekln/faster-whisper@master#faster-whisper[conversion]->faster-whisper@ git+https://github.com/guillaumekln/faster-whisper@master#faster-whisper[conversion]) (0.2.7)\n",
            "Requirement already satisfied: librosa>=0.6.0 in /home/son/Workspace/whisper/.venv/lib/python3.10/site-packages (from torch-audiomentations>=0.11.0->pyannote-audio>=3.1.1->faster-whisper@ git+https://github.com/guillaumekln/faster-whisper@master#faster-whisper[conversion]->faster-whisper@ git+https://github.com/guillaumekln/faster-whisper@master#faster-whisper[conversion]) (0.10.2.post1)\n",
            "Requirement already satisfied: torch-pitch-shift>=1.2.2 in /home/son/Workspace/whisper/.venv/lib/python3.10/site-packages (from torch-audiomentations>=0.11.0->pyannote-audio>=3.1.1->faster-whisper@ git+https://github.com/guillaumekln/faster-whisper@master#faster-whisper[conversion]->faster-whisper@ git+https://github.com/guillaumekln/faster-whisper@master#faster-whisper[conversion]) (1.2.5)\n",
            "Requirement already satisfied: humanfriendly>=9.1 in /home/son/Workspace/whisper/.venv/lib/python3.10/site-packages (from coloredlogs->onnxruntime<2,>=1.14->faster-whisper@ git+https://github.com/guillaumekln/faster-whisper@master#faster-whisper[conversion]->faster-whisper@ git+https://github.com/guillaumekln/faster-whisper@master#faster-whisper[conversion]) (10.0)\n",
            "Requirement already satisfied: MarkupSafe>=2.0 in /home/son/Workspace/whisper/.venv/lib/python3.10/site-packages (from jinja2->torch>=2.1.1->faster-whisper@ git+https://github.com/guillaumekln/faster-whisper@master#faster-whisper[conversion]->faster-whisper@ git+https://github.com/guillaumekln/faster-whisper@master#faster-whisper[conversion]) (2.1.5)\n",
            "Requirement already satisfied: charset-normalizer<4,>=2 in /home/son/Workspace/whisper/.venv/lib/python3.10/site-packages (from requests->huggingface_hub>=0.13->faster-whisper@ git+https://github.com/guillaumekln/faster-whisper@master#faster-whisper[conversion]->faster-whisper@ git+https://github.com/guillaumekln/faster-whisper@master#faster-whisper[conversion]) (3.3.2)\n",
            "Requirement already satisfied: idna<4,>=2.5 in /home/son/Workspace/whisper/.venv/lib/python3.10/site-packages (from requests->huggingface_hub>=0.13->faster-whisper@ git+https://github.com/guillaumekln/faster-whisper@master#faster-whisper[conversion]->faster-whisper@ git+https://github.com/guillaumekln/faster-whisper@master#faster-whisper[conversion]) (3.8)\n",
            "Requirement already satisfied: urllib3<3,>=1.21.1 in /home/son/Workspace/whisper/.venv/lib/python3.10/site-packages (from requests->huggingface_hub>=0.13->faster-whisper@ git+https://github.com/guillaumekln/faster-whisper@master#faster-whisper[conversion]->faster-whisper@ git+https://github.com/guillaumekln/faster-whisper@master#faster-whisper[conversion]) (2.2.2)\n",
            "Requirement already satisfied: certifi>=2017.4.17 in /home/son/Workspace/whisper/.venv/lib/python3.10/site-packages (from requests->huggingface_hub>=0.13->faster-whisper@ git+https://github.com/guillaumekln/faster-whisper@master#faster-whisper[conversion]->faster-whisper@ git+https://github.com/guillaumekln/faster-whisper@master#faster-whisper[conversion]) (2024.8.30)\n",
            "Requirement already satisfied: pycparser in /home/son/Workspace/whisper/.venv/lib/python3.10/site-packages (from cffi>=1.0->soundfile>=0.12.1->pyannote-audio>=3.1.1->faster-whisper@ git+https://github.com/guillaumekln/faster-whisper@master#faster-whisper[conversion]->faster-whisper@ git+https://github.com/guillaumekln/faster-whisper@master#faster-whisper[conversion]) (2.22)\n",
            "Requirement already satisfied: aiohttp!=4.0.0a0,!=4.0.0a1 in /home/son/Workspace/whisper/.venv/lib/python3.10/site-packages (from fsspec[http]<2026.0,>=2022.5.0->lightning>=2.0.1->pyannote-audio>=3.1.1->faster-whisper@ git+https://github.com/guillaumekln/faster-whisper@master#faster-whisper[conversion]->faster-whisper@ git+https://github.com/guillaumekln/faster-whisper@master#faster-whisper[conversion]) (3.10.8)\n",
            "Requirement already satisfied: audioread>=2.1.9 in /home/son/Workspace/whisper/.venv/lib/python3.10/site-packages (from librosa>=0.6.0->torch-audiomentations>=0.11.0->pyannote-audio>=3.1.1->faster-whisper@ git+https://github.com/guillaumekln/faster-whisper@master#faster-whisper[conversion]->faster-whisper@ git+https://github.com/guillaumekln/faster-whisper@master#faster-whisper[conversion]) (3.0.1)\n",
            "Requirement already satisfied: decorator>=4.3.0 in /home/son/Workspace/whisper/.venv/lib/python3.10/site-packages (from librosa>=0.6.0->torch-audiomentations>=0.11.0->pyannote-audio>=3.1.1->faster-whisper@ git+https://github.com/guillaumekln/faster-whisper@master#faster-whisper[conversion]->faster-whisper@ git+https://github.com/guillaumekln/faster-whisper@master#faster-whisper[conversion]) (4.4.2)\n",
            "Requirement already satisfied: numba>=0.51.0 in /home/son/Workspace/whisper/.venv/lib/python3.10/site-packages (from librosa>=0.6.0->torch-audiomentations>=0.11.0->pyannote-audio>=3.1.1->faster-whisper@ git+https://github.com/guillaumekln/faster-whisper@master#faster-whisper[conversion]->faster-whisper@ git+https://github.com/guillaumekln/faster-whisper@master#faster-whisper[conversion]) (0.60.0)\n",
            "Requirement already satisfied: pooch>=1.1 in /home/son/Workspace/whisper/.venv/lib/python3.10/site-packages (from librosa>=0.6.0->torch-audiomentations>=0.11.0->pyannote-audio>=3.1.1->faster-whisper@ git+https://github.com/guillaumekln/faster-whisper@master#faster-whisper[conversion]->faster-whisper@ git+https://github.com/guillaumekln/faster-whisper@master#faster-whisper[conversion]) (1.8.2)\n",
            "Requirement already satisfied: soxr>=0.3.2 in /home/son/Workspace/whisper/.venv/lib/python3.10/site-packages (from librosa>=0.6.0->torch-audiomentations>=0.11.0->pyannote-audio>=3.1.1->faster-whisper@ git+https://github.com/guillaumekln/faster-whisper@master#faster-whisper[conversion]->faster-whisper@ git+https://github.com/guillaumekln/faster-whisper@master#faster-whisper[conversion]) (0.5.0.post1)\n",
            "Requirement already satisfied: lazy-loader>=0.1 in /home/son/Workspace/whisper/.venv/lib/python3.10/site-packages (from librosa>=0.6.0->torch-audiomentations>=0.11.0->pyannote-audio>=3.1.1->faster-whisper@ git+https://github.com/guillaumekln/faster-whisper@master#faster-whisper[conversion]->faster-whisper@ git+https://github.com/guillaumekln/faster-whisper@master#faster-whisper[conversion]) (0.4)\n",
            "Requirement already satisfied: msgpack>=1.0 in /home/son/Workspace/whisper/.venv/lib/python3.10/site-packages (from librosa>=0.6.0->torch-audiomentations>=0.11.0->pyannote-audio>=3.1.1->faster-whisper@ git+https://github.com/guillaumekln/faster-whisper@master#faster-whisper[conversion]->faster-whisper@ git+https://github.com/guillaumekln/faster-whisper@master#faster-whisper[conversion]) (1.1.0)\n",
            "Requirement already satisfied: mdurl~=0.1 in /home/son/Workspace/whisper/.venv/lib/python3.10/site-packages (from markdown-it-py>=2.2.0->rich>=12.0.0->pyannote-audio>=3.1.1->faster-whisper@ git+https://github.com/guillaumekln/faster-whisper@master#faster-whisper[conversion]->faster-whisper@ git+https://github.com/guillaumekln/faster-whisper@master#faster-whisper[conversion]) (0.1.2)\n",
            "Requirement already satisfied: contourpy>=1.0.1 in /home/son/Workspace/whisper/.venv/lib/python3.10/site-packages (from matplotlib>=2.0.0->pyannote.metrics>=3.2->pyannote-audio>=3.1.1->faster-whisper@ git+https://github.com/guillaumekln/faster-whisper@master#faster-whisper[conversion]->faster-whisper@ git+https://github.com/guillaumekln/faster-whisper@master#faster-whisper[conversion]) (1.3.0)\n",
            "Requirement already satisfied: cycler>=0.10 in /home/son/Workspace/whisper/.venv/lib/python3.10/site-packages (from matplotlib>=2.0.0->pyannote.metrics>=3.2->pyannote-audio>=3.1.1->faster-whisper@ git+https://github.com/guillaumekln/faster-whisper@master#faster-whisper[conversion]->faster-whisper@ git+https://github.com/guillaumekln/faster-whisper@master#faster-whisper[conversion]) (0.12.1)\n",
            "Requirement already satisfied: fonttools>=4.22.0 in /home/son/Workspace/whisper/.venv/lib/python3.10/site-packages (from matplotlib>=2.0.0->pyannote.metrics>=3.2->pyannote-audio>=3.1.1->faster-whisper@ git+https://github.com/guillaumekln/faster-whisper@master#faster-whisper[conversion]->faster-whisper@ git+https://github.com/guillaumekln/faster-whisper@master#faster-whisper[conversion]) (4.54.1)\n",
            "Requirement already satisfied: kiwisolver>=1.3.1 in /home/son/Workspace/whisper/.venv/lib/python3.10/site-packages (from matplotlib>=2.0.0->pyannote.metrics>=3.2->pyannote-audio>=3.1.1->faster-whisper@ git+https://github.com/guillaumekln/faster-whisper@master#faster-whisper[conversion]->faster-whisper@ git+https://github.com/guillaumekln/faster-whisper@master#faster-whisper[conversion]) (1.4.7)\n",
            "Requirement already satisfied: pillow>=8 in /home/son/Workspace/whisper/.venv/lib/python3.10/site-packages (from matplotlib>=2.0.0->pyannote.metrics>=3.2->pyannote-audio>=3.1.1->faster-whisper@ git+https://github.com/guillaumekln/faster-whisper@master#faster-whisper[conversion]->faster-whisper@ git+https://github.com/guillaumekln/faster-whisper@master#faster-whisper[conversion]) (10.4.0)\n",
            "Requirement already satisfied: pyparsing>=2.3.1 in /home/son/Workspace/whisper/.venv/lib/python3.10/site-packages (from matplotlib>=2.0.0->pyannote.metrics>=3.2->pyannote-audio>=3.1.1->faster-whisper@ git+https://github.com/guillaumekln/faster-whisper@master#faster-whisper[conversion]->faster-whisper@ git+https://github.com/guillaumekln/faster-whisper@master#faster-whisper[conversion]) (3.1.4)\n",
            "Requirement already satisfied: python-dateutil>=2.7 in /home/son/Workspace/whisper/.venv/lib/python3.10/site-packages (from matplotlib>=2.0.0->pyannote.metrics>=3.2->pyannote-audio>=3.1.1->faster-whisper@ git+https://github.com/guillaumekln/faster-whisper@master#faster-whisper[conversion]->faster-whisper@ git+https://github.com/guillaumekln/faster-whisper@master#faster-whisper[conversion]) (2.9.0.post0)\n",
            "Requirement already satisfied: alembic>=1.5.0 in /home/son/Workspace/whisper/.venv/lib/python3.10/site-packages (from optuna>=3.1->pyannote.pipeline>=3.0.1->pyannote-audio>=3.1.1->faster-whisper@ git+https://github.com/guillaumekln/faster-whisper@master#faster-whisper[conversion]->faster-whisper@ git+https://github.com/guillaumekln/faster-whisper@master#faster-whisper[conversion]) (1.13.3)\n",
            "Requirement already satisfied: colorlog in /home/son/Workspace/whisper/.venv/lib/python3.10/site-packages (from optuna>=3.1->pyannote.pipeline>=3.0.1->pyannote-audio>=3.1.1->faster-whisper@ git+https://github.com/guillaumekln/faster-whisper@master#faster-whisper[conversion]->faster-whisper@ git+https://github.com/guillaumekln/faster-whisper@master#faster-whisper[conversion]) (6.8.2)\n",
            "Requirement already satisfied: sqlalchemy>=1.3.0 in /home/son/Workspace/whisper/.venv/lib/python3.10/site-packages (from optuna>=3.1->pyannote.pipeline>=3.0.1->pyannote-audio>=3.1.1->faster-whisper@ git+https://github.com/guillaumekln/faster-whisper@master#faster-whisper[conversion]->faster-whisper@ git+https://github.com/guillaumekln/faster-whisper@master#faster-whisper[conversion]) (2.0.35)\n",
            "Requirement already satisfied: pytz>=2020.1 in /home/son/Workspace/whisper/.venv/lib/python3.10/site-packages (from pandas>=0.19->pyannote.database>=5.0.1->pyannote-audio>=3.1.1->faster-whisper@ git+https://github.com/guillaumekln/faster-whisper@master#faster-whisper[conversion]->faster-whisper@ git+https://github.com/guillaumekln/faster-whisper@master#faster-whisper[conversion]) (2024.2)\n",
            "Requirement already satisfied: threadpoolctl>=3.1.0 in /home/son/Workspace/whisper/.venv/lib/python3.10/site-packages (from scikit-learn>=0.17.1->pyannote.metrics>=3.2->pyannote-audio>=3.1.1->faster-whisper@ git+https://github.com/guillaumekln/faster-whisper@master#faster-whisper[conversion]->faster-whisper@ git+https://github.com/guillaumekln/faster-whisper@master#faster-whisper[conversion]) (3.5.0)\n",
            "Requirement already satisfied: primePy>=1.3 in /home/son/Workspace/whisper/.venv/lib/python3.10/site-packages (from torch-pitch-shift>=1.2.2->torch-audiomentations>=0.11.0->pyannote-audio>=3.1.1->faster-whisper@ git+https://github.com/guillaumekln/faster-whisper@master#faster-whisper[conversion]->faster-whisper@ git+https://github.com/guillaumekln/faster-whisper@master#faster-whisper[conversion]) (1.3)\n",
            "Requirement already satisfied: click>=8.0.0 in /home/son/Workspace/whisper/.venv/lib/python3.10/site-packages (from typer>=0.12.1->pyannote.database>=5.0.1->pyannote-audio>=3.1.1->faster-whisper@ git+https://github.com/guillaumekln/faster-whisper@master#faster-whisper[conversion]->faster-whisper@ git+https://github.com/guillaumekln/faster-whisper@master#faster-whisper[conversion]) (8.1.7)\n",
            "Requirement already satisfied: shellingham>=1.3.0 in /home/son/Workspace/whisper/.venv/lib/python3.10/site-packages (from typer>=0.12.1->pyannote.database>=5.0.1->pyannote-audio>=3.1.1->faster-whisper@ git+https://github.com/guillaumekln/faster-whisper@master#faster-whisper[conversion]->faster-whisper@ git+https://github.com/guillaumekln/faster-whisper@master#faster-whisper[conversion]) (1.5.4)\n",
            "Requirement already satisfied: ruamel.yaml>=0.17.28 in /home/son/Workspace/whisper/.venv/lib/python3.10/site-packages (from hyperpyyaml->speechbrain>=1.0.0->pyannote-audio>=3.1.1->faster-whisper@ git+https://github.com/guillaumekln/faster-whisper@master#faster-whisper[conversion]->faster-whisper@ git+https://github.com/guillaumekln/faster-whisper@master#faster-whisper[conversion]) (0.18.6)\n",
            "Requirement already satisfied: aiohappyeyeballs>=2.3.0 in /home/son/Workspace/whisper/.venv/lib/python3.10/site-packages (from aiohttp!=4.0.0a0,!=4.0.0a1->fsspec[http]<2026.0,>=2022.5.0->lightning>=2.0.1->pyannote-audio>=3.1.1->faster-whisper@ git+https://github.com/guillaumekln/faster-whisper@master#faster-whisper[conversion]->faster-whisper@ git+https://github.com/guillaumekln/faster-whisper@master#faster-whisper[conversion]) (2.4.3)\n",
            "Requirement already satisfied: aiosignal>=1.1.2 in /home/son/Workspace/whisper/.venv/lib/python3.10/site-packages (from aiohttp!=4.0.0a0,!=4.0.0a1->fsspec[http]<2026.0,>=2022.5.0->lightning>=2.0.1->pyannote-audio>=3.1.1->faster-whisper@ git+https://github.com/guillaumekln/faster-whisper@master#faster-whisper[conversion]->faster-whisper@ git+https://github.com/guillaumekln/faster-whisper@master#faster-whisper[conversion]) (1.3.1)\n",
            "Requirement already satisfied: attrs>=17.3.0 in /home/son/Workspace/whisper/.venv/lib/python3.10/site-packages (from aiohttp!=4.0.0a0,!=4.0.0a1->fsspec[http]<2026.0,>=2022.5.0->lightning>=2.0.1->pyannote-audio>=3.1.1->faster-whisper@ git+https://github.com/guillaumekln/faster-whisper@master#faster-whisper[conversion]->faster-whisper@ git+https://github.com/guillaumekln/faster-whisper@master#faster-whisper[conversion]) (24.2.0)\n",
            "Requirement already satisfied: frozenlist>=1.1.1 in /home/son/Workspace/whisper/.venv/lib/python3.10/site-packages (from aiohttp!=4.0.0a0,!=4.0.0a1->fsspec[http]<2026.0,>=2022.5.0->lightning>=2.0.1->pyannote-audio>=3.1.1->faster-whisper@ git+https://github.com/guillaumekln/faster-whisper@master#faster-whisper[conversion]->faster-whisper@ git+https://github.com/guillaumekln/faster-whisper@master#faster-whisper[conversion]) (1.4.1)\n",
            "Requirement already satisfied: multidict<7.0,>=4.5 in /home/son/Workspace/whisper/.venv/lib/python3.10/site-packages (from aiohttp!=4.0.0a0,!=4.0.0a1->fsspec[http]<2026.0,>=2022.5.0->lightning>=2.0.1->pyannote-audio>=3.1.1->faster-whisper@ git+https://github.com/guillaumekln/faster-whisper@master#faster-whisper[conversion]->faster-whisper@ git+https://github.com/guillaumekln/faster-whisper@master#faster-whisper[conversion]) (6.1.0)\n",
            "Requirement already satisfied: yarl<2.0,>=1.12.0 in /home/son/Workspace/whisper/.venv/lib/python3.10/site-packages (from aiohttp!=4.0.0a0,!=4.0.0a1->fsspec[http]<2026.0,>=2022.5.0->lightning>=2.0.1->pyannote-audio>=3.1.1->faster-whisper@ git+https://github.com/guillaumekln/faster-whisper@master#faster-whisper[conversion]->faster-whisper@ git+https://github.com/guillaumekln/faster-whisper@master#faster-whisper[conversion]) (1.13.1)\n",
            "Requirement already satisfied: async-timeout<5.0,>=4.0 in /home/son/Workspace/whisper/.venv/lib/python3.10/site-packages (from aiohttp!=4.0.0a0,!=4.0.0a1->fsspec[http]<2026.0,>=2022.5.0->lightning>=2.0.1->pyannote-audio>=3.1.1->faster-whisper@ git+https://github.com/guillaumekln/faster-whisper@master#faster-whisper[conversion]->faster-whisper@ git+https://github.com/guillaumekln/faster-whisper@master#faster-whisper[conversion]) (4.0.3)\n",
            "Requirement already satisfied: Mako in /home/son/Workspace/whisper/.venv/lib/python3.10/site-packages (from alembic>=1.5.0->optuna>=3.1->pyannote.pipeline>=3.0.1->pyannote-audio>=3.1.1->faster-whisper@ git+https://github.com/guillaumekln/faster-whisper@master#faster-whisper[conversion]->faster-whisper@ git+https://github.com/guillaumekln/faster-whisper@master#faster-whisper[conversion]) (1.3.5)\n",
            "Requirement already satisfied: llvmlite<0.44,>=0.43.0dev0 in /home/son/Workspace/whisper/.venv/lib/python3.10/site-packages (from numba>=0.51.0->librosa>=0.6.0->torch-audiomentations>=0.11.0->pyannote-audio>=3.1.1->faster-whisper@ git+https://github.com/guillaumekln/faster-whisper@master#faster-whisper[conversion]->faster-whisper@ git+https://github.com/guillaumekln/faster-whisper@master#faster-whisper[conversion]) (0.43.0)\n",
            "Requirement already satisfied: platformdirs>=2.5.0 in /home/son/Workspace/whisper/.venv/lib/python3.10/site-packages (from pooch>=1.1->librosa>=0.6.0->torch-audiomentations>=0.11.0->pyannote-audio>=3.1.1->faster-whisper@ git+https://github.com/guillaumekln/faster-whisper@master#faster-whisper[conversion]->faster-whisper@ git+https://github.com/guillaumekln/faster-whisper@master#faster-whisper[conversion]) (4.3.3)\n",
            "Requirement already satisfied: six>=1.5 in /home/son/Workspace/whisper/.venv/lib/python3.10/site-packages (from python-dateutil>=2.7->matplotlib>=2.0.0->pyannote.metrics>=3.2->pyannote-audio>=3.1.1->faster-whisper@ git+https://github.com/guillaumekln/faster-whisper@master#faster-whisper[conversion]->faster-whisper@ git+https://github.com/guillaumekln/faster-whisper@master#faster-whisper[conversion]) (1.16.0)\n",
            "Requirement already satisfied: ruamel.yaml.clib>=0.2.7 in /home/son/Workspace/whisper/.venv/lib/python3.10/site-packages (from ruamel.yaml>=0.17.28->hyperpyyaml->speechbrain>=1.0.0->pyannote-audio>=3.1.1->faster-whisper@ git+https://github.com/guillaumekln/faster-whisper@master#faster-whisper[conversion]->faster-whisper@ git+https://github.com/guillaumekln/faster-whisper@master#faster-whisper[conversion]) (0.2.8)\n",
            "Requirement already satisfied: greenlet!=0.4.17 in /home/son/Workspace/whisper/.venv/lib/python3.10/site-packages (from sqlalchemy>=1.3.0->optuna>=3.1->pyannote.pipeline>=3.0.1->pyannote-audio>=3.1.1->faster-whisper@ git+https://github.com/guillaumekln/faster-whisper@master#faster-whisper[conversion]->faster-whisper@ git+https://github.com/guillaumekln/faster-whisper@master#faster-whisper[conversion]) (3.1.1)\n"
          ]
        }
      ],
      "source": [
        "!pip install \"faster-whisper @ git+https://github.com/guillaumekln/faster-whisper@master#faster-whisper[conversion]\"\n",
        "\n",
        "!ct2-transformers-converter --model openai/whisper-medium --output_dir whisper-medium-ct2 --quantization float16\n",
        "!ct2-transformers-converter --model openai/whisper-large --output_dir whisper-large-ct2 --quantization float16\n",
        "\n"
      ]
    },
    {
      "cell_type": "code",
      "execution_count": 14,
      "metadata": {
        "colab": {
          "base_uri": "https://localhost:8080/"
        },
        "collapsed": true,
        "id": "7ZuH2-_Mk-f0",
        "outputId": "b2b3f1ee-3eae-4ab8-ff07-c49343be1677"
      },
      "outputs": [
        {
          "name": "stdout",
          "output_type": "stream",
          "text": [
            "Requirement already satisfied: torchaudio in /home/son/Workspace/whisper/.venv/lib/python3.10/site-packages (2.4.1)\n",
            "Requirement already satisfied: torch==2.4.1 in /home/son/Workspace/whisper/.venv/lib/python3.10/site-packages (from torchaudio) (2.4.1)\n",
            "Requirement already satisfied: filelock in /home/son/Workspace/whisper/.venv/lib/python3.10/site-packages (from torch==2.4.1->torchaudio) (3.15.4)\n",
            "Requirement already satisfied: typing-extensions>=4.8.0 in /home/son/Workspace/whisper/.venv/lib/python3.10/site-packages (from torch==2.4.1->torchaudio) (4.12.2)\n",
            "Requirement already satisfied: sympy in /home/son/Workspace/whisper/.venv/lib/python3.10/site-packages (from torch==2.4.1->torchaudio) (1.13.2)\n",
            "Requirement already satisfied: networkx in /home/son/Workspace/whisper/.venv/lib/python3.10/site-packages (from torch==2.4.1->torchaudio) (3.3)\n",
            "Requirement already satisfied: jinja2 in /home/son/Workspace/whisper/.venv/lib/python3.10/site-packages (from torch==2.4.1->torchaudio) (3.1.4)\n",
            "Requirement already satisfied: fsspec in /home/son/Workspace/whisper/.venv/lib/python3.10/site-packages (from torch==2.4.1->torchaudio) (2024.6.1)\n",
            "Requirement already satisfied: nvidia-cuda-nvrtc-cu12==12.1.105 in /home/son/Workspace/whisper/.venv/lib/python3.10/site-packages (from torch==2.4.1->torchaudio) (12.1.105)\n",
            "Requirement already satisfied: nvidia-cuda-runtime-cu12==12.1.105 in /home/son/Workspace/whisper/.venv/lib/python3.10/site-packages (from torch==2.4.1->torchaudio) (12.1.105)\n",
            "Requirement already satisfied: nvidia-cuda-cupti-cu12==12.1.105 in /home/son/Workspace/whisper/.venv/lib/python3.10/site-packages (from torch==2.4.1->torchaudio) (12.1.105)\n",
            "Requirement already satisfied: nvidia-cudnn-cu12==9.1.0.70 in /home/son/Workspace/whisper/.venv/lib/python3.10/site-packages (from torch==2.4.1->torchaudio) (9.1.0.70)\n",
            "Requirement already satisfied: nvidia-cublas-cu12==12.1.3.1 in /home/son/Workspace/whisper/.venv/lib/python3.10/site-packages (from torch==2.4.1->torchaudio) (12.1.3.1)\n",
            "Requirement already satisfied: nvidia-cufft-cu12==11.0.2.54 in /home/son/Workspace/whisper/.venv/lib/python3.10/site-packages (from torch==2.4.1->torchaudio) (11.0.2.54)\n",
            "Requirement already satisfied: nvidia-curand-cu12==10.3.2.106 in /home/son/Workspace/whisper/.venv/lib/python3.10/site-packages (from torch==2.4.1->torchaudio) (10.3.2.106)\n",
            "Requirement already satisfied: nvidia-cusolver-cu12==11.4.5.107 in /home/son/Workspace/whisper/.venv/lib/python3.10/site-packages (from torch==2.4.1->torchaudio) (11.4.5.107)\n",
            "Requirement already satisfied: nvidia-cusparse-cu12==12.1.0.106 in /home/son/Workspace/whisper/.venv/lib/python3.10/site-packages (from torch==2.4.1->torchaudio) (12.1.0.106)\n",
            "Requirement already satisfied: nvidia-nccl-cu12==2.20.5 in /home/son/Workspace/whisper/.venv/lib/python3.10/site-packages (from torch==2.4.1->torchaudio) (2.20.5)\n",
            "Requirement already satisfied: nvidia-nvtx-cu12==12.1.105 in /home/son/Workspace/whisper/.venv/lib/python3.10/site-packages (from torch==2.4.1->torchaudio) (12.1.105)\n",
            "Requirement already satisfied: triton==3.0.0 in /home/son/Workspace/whisper/.venv/lib/python3.10/site-packages (from torch==2.4.1->torchaudio) (3.0.0)\n",
            "Requirement already satisfied: nvidia-nvjitlink-cu12 in /home/son/Workspace/whisper/.venv/lib/python3.10/site-packages (from nvidia-cusolver-cu12==11.4.5.107->torch==2.4.1->torchaudio) (12.6.77)\n",
            "Requirement already satisfied: MarkupSafe>=2.0 in /home/son/Workspace/whisper/.venv/lib/python3.10/site-packages (from jinja2->torch==2.4.1->torchaudio) (2.1.5)\n",
            "Requirement already satisfied: mpmath<1.4,>=1.1.0 in /home/son/Workspace/whisper/.venv/lib/python3.10/site-packages (from sympy->torch==2.4.1->torchaudio) (1.3.0)\n"
          ]
        }
      ],
      "source": [
        "!pip3 install torchaudio"
      ]
    },
    {
      "cell_type": "code",
      "execution_count": 15,
      "metadata": {
        "colab": {
          "base_uri": "https://localhost:8080/"
        },
        "collapsed": true,
        "id": "6TjZkPiCPoQT",
        "outputId": "ee749af7-5d4f-4b3f-f940-0e35e701836d"
      },
      "outputs": [
        {
          "name": "stdout",
          "output_type": "stream",
          "text": [
            "total 76K\n",
            "drwxrwxr-x 7 son son 4.0K Oct  3 08:35 ..\n",
            "-rw-rw-r-- 1 son son 5.0K Oct  3 08:35 README.md\n",
            "-rw-rw-r-- 1 son son 4.8K Oct  3 08:35 lang2to3.py\n",
            "-rw-rw-r-- 1 son son 1.4K Oct  3 08:35 demucsWrapper.py\n",
            "drwxrwxr-x 2 son son 4.0K Oct  3 08:35 data\n",
            "-rw-rw-r-- 1 son son  25K Oct  3 08:35 transcribeHallu.py\n",
            "drwxrwxr-x 2 son son 4.0K Oct  3 08:35 markers\n",
            "drwxrwxr-x 8 son son 4.0K Oct  3 08:35 .git\n",
            "drwxrwxr-x 2 son son 4.0K Oct  3 08:35 whisper-medium-ct2\n",
            "drwxrwxr-x 7 son son 4.0K Oct  3 08:35 .\n",
            "drwxrwxr-x 2 son son 4.0K Oct  3 08:36 whisper-large-ct2\n"
          ]
        }
      ],
      "source": [
        "!ls -lahtr"
      ]
    },
    {
      "cell_type": "code",
      "execution_count": 16,
      "metadata": {
        "colab": {
          "base_uri": "https://localhost:8080/",
          "height": 393
        },
        "id": "FKK3DDa-uClf",
        "outputId": "b3d547ff-10c4-48b4-b714-a7b5386c08d8"
      },
      "outputs": [
        {
          "name": "stdout",
          "output_type": "stream",
          "text": [
            "Python >= 3.10\n"
          ]
        },
        {
          "name": "stderr",
          "output_type": "stream",
          "text": [
            "Using cache found in /home/son/.cache/torch/hub/snakers4_silero-vad_master\n"
          ]
        },
        {
          "name": "stdout",
          "output_type": "stream",
          "text": [
            "Using Demucs\n"
          ]
        },
        {
          "name": "stderr",
          "output_type": "stream",
          "text": [
            "/home/son/Workspace/whisper/.venv/lib/python3.10/site-packages/tqdm/auto.py:21: TqdmWarning: IProgress not found. Please update jupyter and ipywidgets. See https://ipywidgets.readthedocs.io/en/stable/user_install.html\n",
            "  from .autonotebook import tqdm as notebook_tqdm\n"
          ]
        },
        {
          "name": "stdout",
          "output_type": "stream",
          "text": [
            "Using Faster Whisper\n",
            "LOADING: whisper-large-ct2/ GPU: 0 BS: 2 PTC=0 TEMP=0\n",
            "LOADED\n",
            "Using output language as input language: vi\n",
            "=====transcribePrompt\n",
            "PATH=../input/tamo.mp3\n",
            "LNGINPUT=vi\n",
            "LNG=vi\n",
            "PROMPT=Whisper, Ok. A pertinent sentence for your purpose in your language. Ok, Whisper. Whisper, Ok. Ok, Whisper. Whisper, Ok. Please find here, an unlikely ordinary sentence. This is to avoid a repetition to be deleted. Ok, Whisper. \n",
            "Warning: can't convert to WAV\n",
            "can only concatenate str (not \"int\") to str\n",
            "CMD: ffmpeg -y -i \"../input/tamo.mp3\"  -f null - > \"../input/tamo.mp3.dur\" 2>&1\n",
            "T= 0.18506217002868652\n",
            "DURATION=131 max 600\n",
            "Demucs using device: cuda:0\n",
            "Source: drums\n",
            "Source: bass\n",
            "Source: other\n",
            "Source: vocals\n",
            "T= 5.0151379108428955\n",
            "PATH=../input/tamo.mp3.vocals.wav\n",
            "CMD: ffmpeg -y -i \"../input/tamo.mp3.vocals.wav\" -af \"silenceremove=start_periods=1:stop_periods=-1:start_threshold=-50dB:stop_threshold=-50dB:start_silence=0.2:stop_silence=0.2, loudnorm\"  -c:a pcm_s16le -ar 16000 \"../input/tamo.mp3.vocals.wav.SILCUT.wav\" > \"../input/tamo.mp3.vocals.wav.SILCUT.wav.log\" 2>&1\n",
            "T= 1.5221116542816162\n",
            "PATH=../input/tamo.mp3.vocals.wav.SILCUT.wav\n",
            "T= 0.7459909915924072\n",
            "PATH=../input/tamo.mp3.vocals.wav.SILCUT.wav.VAD.wav\n",
            "NOT USING MARKS FOR DURATION > 30s\n",
            "transcribeMARK(): ../input/tamo.mp3.vocals.wav.SILCUT.wav.VAD.wav\n",
            "[0] PATH=../input/tamo.mp3.vocals.wav.SILCUT.wav.VAD.wav\n",
            "RUN: 0\n",
            "T= 1.9735548496246338\n",
            "TRANS= Tòn bàn tay, bàn tay. Sao hôn bơn sao màn cuối trời. Đêm rồi trọn bóng trăng vơi. Mơ em hồi đó cho đời thênh vui. Ngư làn gió, nhẹ nhàng trôi. Màng cao giấc mơ xa xôi. Trong màn đêm, anh đợi chờ. Tình yêu em như trăng sâu dặn dơ. Tòn chiếc bước, trời xa bên nhau đời. Thênh ngọt ngơ, vận nguyệt đông qua đêm vui.\n",
            "T= 9.44576120376587\n",
            "s/c= 0.030178240693796175\n",
            "c/s= 33.13642604285114\n"
          ]
        }
      ],
      "source": [
        "from transcribeHallu import loadModel\n",
        "from transcribeHallu import transcribePrompt\n",
        "\n",
        "##### Need to be adapted for each language ####\n",
        "lng=\"vi\"\n",
        "prompt= \"Whisper, Ok. \"\\\n",
        "\t+\"A pertinent sentence for your purpose in your language. \"\\\n",
        "\t+\"Ok, Whisper. Whisper, Ok. \"\\\n",
        "\t+\"Ok, Whisper. Whisper, Ok. \"\\\n",
        "\t+\"Please find here, an unlikely ordinary sentence. \"\\\n",
        "\t+\"This is to avoid a repetition to be deleted. \"\\\n",
        "\t+\"Ok, Whisper. \"\n",
        "path=\"../input/tamo.mp3\"\n",
        "isMusic=True\n",
        "#Example\n",
        "#lng=\"uk\"\n",
        "#prompt= \"Whisper, Ok. \"\\\n",
        "#\t+\"Доречне речення вашою мовою для вашої мети. \"\\\n",
        "#\t+\"Ok, Whisper. Whisper, Ok. \"\\\n",
        "#\t+\"Ok, Whisper. Whisper, Ok. \"\\\n",
        "#\t+\"Будь ласка, знайдіть тут навряд чи звичайне речення. \"\\\n",
        "#\t+\"Це зроблено для того, щоб уникнути повторення, яке потрібно видалити. \"\\\n",
        "#\t+\"Ok, Whisper. \"\n",
        "#path=\"/path/to/your/uk/sound/file\"\n",
        "\n",
        "loadModel(\"0\",modelSize=\"large\")\n",
        "result = transcribePrompt(path=path, lng=lng, prompt=prompt, isMusic=isMusic)"
      ]
    },
    {
      "cell_type": "code",
      "execution_count": 17,
      "metadata": {
        "colab": {
          "base_uri": "https://localhost:8080/"
        },
        "id": "iqKo6aHovSzA",
        "outputId": "b47a46e4-e878-4291-a25e-e774c4d3a495"
      },
      "outputs": [
        {
          "name": "stdout",
          "output_type": "stream",
          "text": [
            " Tòn bàn tay, bàn tay. Sao hôn bơn sao màn cuối trời. Đêm rồi trọn bóng trăng vơi. Mơ em hồi đó cho đời thênh vui. Ngư làn gió, nhẹ nhàng trôi. Màng cao giấc mơ xa xôi. Trong màn đêm, anh đợi chờ. Tình yêu em như trăng sâu dặn dơ. Tòn chiếc bước, trời xa bên nhau đời. Thênh ngọt ngơ, vận nguyệt đông qua đêm vui.\n"
          ]
        }
      ],
      "source": [
        "print(result)"
      ]
    },
    {
      "cell_type": "code",
      "execution_count": null,
      "metadata": {
        "id": "FJ8lvUxOKJjF"
      },
      "outputs": [],
      "source": []
    }
  ],
  "metadata": {
    "accelerator": "GPU",
    "colab": {
      "provenance": []
    },
    "gpuClass": "standard",
    "kernelspec": {
      "display_name": "Python 3",
      "name": "python3"
    },
    "language_info": {
      "codemirror_mode": {
        "name": "ipython",
        "version": 3
      },
      "file_extension": ".py",
      "mimetype": "text/x-python",
      "name": "python",
      "nbconvert_exporter": "python",
      "pygments_lexer": "ipython3",
      "version": "3.10.12"
    }
  },
  "nbformat": 4,
  "nbformat_minor": 0
}
